{
 "cells": [
  {
   "cell_type": "markdown",
   "metadata": {},
   "source": [
    "## Additional Testing for IntOpt - MLP"
   ]
  },
  {
   "cell_type": "code",
   "execution_count": 111,
   "metadata": {},
   "outputs": [],
   "source": [
    "import torch\n",
    "import numpy as np\n",
    "\n",
    "class QuantizerScheme:  \n",
    "    def __init__(self, t, b):  \n",
    "        self.b = np.floor(b)  \n",
    "        self.t = t\n",
    "        self.incr = 1\n",
    "        \n",
    "        if b <= 0:\n",
    "            raise Exception(\"QuantizerScheme: 'b' must be greater than 0.\")\n",
    "        \n",
    "        if t <= 0 or t >= 1:\n",
    "            raise Exception(\"QuantizerScheme: 't' must be between 0 and 1.\")\n",
    "        \n",
    "        #Bitwidth (b) produces a number of values equal to 2^b\n",
    "        bs = 2 ** b\n",
    "        \n",
    "        #Value 0 is always 0. Value Max is always 1.\n",
    "        self.vals = np.zeros(bs)\n",
    "        self.vals[bs - 1] = 1\n",
    "        \n",
    "        #For the values in between, it is equally spaced gaps between t and 1, including t.\n",
    "        #If bitwidth is 1, then only 0 and 1 are options.\n",
    "        \n",
    "        if b > 1:\n",
    "            self.incr = (1 - t) / (bs - 2) #The increment for steps between t and 1\n",
    "            #valuesToCreate\n",
    "            vtc = bs - 2\n",
    "            for i in range(vtc):\n",
    "                nv = t + (i * self.incr)\n",
    "                self.vals[i + 1] = nv\n",
    "                \n",
    "        print(self.vals)\n",
    "    \n",
    "    @torch.no_grad()\n",
    "    def Quantize(self, val):\n",
    "        low = 0\n",
    "        high = 1\n",
    "        neg = 1\n",
    "        if val < 0:\n",
    "            neg = -1\n",
    "        val = abs(val)\n",
    "        for i in range(self.vals.__len__()):\n",
    "            if val == self.vals[i]:\n",
    "                low = val\n",
    "                high = val\n",
    "            if val > self.vals[i]:\n",
    "                if i != self.vals.__len__() - 1:\n",
    "                    low = self.vals[i]\n",
    "                    high = self.vals[i + 1]\n",
    "        \n",
    "        if low == high: #Exact match\n",
    "            return val\n",
    "        else:\n",
    "            sampl = np.random.uniform(low=low, high=high) - low\n",
    "            hprob = (val - low)/self.incr\n",
    "            prob = sampl/self.incr\n",
    "            #If prob < hprob, round to the high, else round to the low\n",
    "            if prob < hprob:\n",
    "                val = high\n",
    "            else:\n",
    "                val = low\n",
    "        return (val * neg)"
   ]
  },
  {
   "cell_type": "code",
   "execution_count": 112,
   "metadata": {},
   "outputs": [],
   "source": [
    "import torch\n",
    "from torch.optim.optimizer import Optimizer, required\n",
    "import torch.optim._functional as _F\n",
    "\n",
    "class IntOptAdam(Optimizer): #Intensity Optimizer\n",
    "    def __init__(self, params, t, b, lr=1e-3, betas=(0.9, 0.999), eps=1e-8,\n",
    "                 weight_decay=0, amsgrad=False, *, maximize: bool = False):\n",
    "        if not 0.0 <= lr:\n",
    "            raise ValueError(\"Invalid learning rate: {}\".format(lr))\n",
    "        if not 0.0 <= eps:\n",
    "            raise ValueError(\"Invalid epsilon value: {}\".format(eps))\n",
    "        if not 0.0 <= betas[0] < 1.0:\n",
    "            raise ValueError(\"Invalid beta parameter at index 0: {}\".format(betas[0]))\n",
    "        if not 0.0 <= betas[1] < 1.0:\n",
    "            raise ValueError(\"Invalid beta parameter at index 1: {}\".format(betas[1]))\n",
    "        if not 0.0 <= weight_decay:\n",
    "            raise ValueError(\"Invalid weight_decay value: {}\".format(weight_decay))\n",
    "        defaults = dict(lr=lr, betas=betas, eps=eps,\n",
    "                        weight_decay=weight_decay, amsgrad=amsgrad, maximize=maximize, t=t, b=b)\n",
    "        \n",
    "        self.qs = QuantizerScheme(t, b)\n",
    "        \n",
    "        super(IntOptAdam, self).__init__(params, defaults)\n",
    "\n",
    "    def __setstate__(self, state):\n",
    "        super(Adam, self).__setstate__(state)\n",
    "        for group in self.param_groups:\n",
    "            group.setdefault('amsgrad', False)\n",
    "\n",
    "    @torch.no_grad()\n",
    "    def step(self, closure=None):\n",
    "        \"\"\"Performs a single optimization step.\n",
    "        Args:\n",
    "            closure (callable, optional): A closure that reevaluates the model\n",
    "                and returns the loss.\n",
    "        \"\"\"\n",
    "        loss = None\n",
    "        if closure is not None:\n",
    "            with torch.enable_grad():\n",
    "                loss = closure()\n",
    "\n",
    "        for group in self.param_groups:\n",
    "            params_with_grad = []\n",
    "            grads = []\n",
    "            exp_avgs = []\n",
    "            exp_avg_sqs = []\n",
    "            max_exp_avg_sqs = []\n",
    "            state_steps = []\n",
    "            beta1, beta2 = group['betas']\n",
    "            t = group['t']\n",
    "            b = group['b']\n",
    "            \n",
    "            for p in group['params']:\n",
    "                if p.grad is not None:\n",
    "                    params_with_grad.append(p)\n",
    "                    if p.grad.is_sparse:\n",
    "                        raise RuntimeError('Adam does not support sparse gradients, please consider SparseAdam instead')\n",
    "                    grads.append(p.grad)\n",
    "\n",
    "                    state = self.state[p]\n",
    "                    # Lazy state initialization\n",
    "                    if len(state) == 0:\n",
    "                        state['step'] = 0\n",
    "                        # Exponential moving average of gradient values\n",
    "                        state['exp_avg'] = torch.zeros_like(p, memory_format=torch.preserve_format)\n",
    "                        # Exponential moving average of squared gradient values\n",
    "                        state['exp_avg_sq'] = torch.zeros_like(p, memory_format=torch.preserve_format)\n",
    "                        if group['amsgrad']:\n",
    "                            # Maintains max of all exp. moving avg. of sq. grad. values\n",
    "                            state['max_exp_avg_sq'] = torch.zeros_like(p, memory_format=torch.preserve_format)\n",
    "\n",
    "                    exp_avgs.append(state['exp_avg'])\n",
    "                    exp_avg_sqs.append(state['exp_avg_sq'])\n",
    "\n",
    "                    if group['amsgrad']:\n",
    "                        max_exp_avg_sqs.append(state['max_exp_avg_sq'])\n",
    "\n",
    "                    # update the steps for each param group update\n",
    "                    state['step'] += 1\n",
    "                    # record the step after step update\n",
    "                    state_steps.append(state['step'])\n",
    "\n",
    "            _F.adam(params_with_grad,\n",
    "                   grads,\n",
    "                   exp_avgs,\n",
    "                   exp_avg_sqs,\n",
    "                   max_exp_avg_sqs,\n",
    "                   state_steps,\n",
    "                   amsgrad=group['amsgrad'],\n",
    "                   beta1=beta1,\n",
    "                   beta2=beta2,\n",
    "                   lr=group['lr'],\n",
    "                   weight_decay=group['weight_decay'],\n",
    "                   eps=group['eps'])\n",
    "            \n",
    "            for p in group['params']:\n",
    "                if(p.shape.__len__() > 0):\n",
    "                    zs = torch.zeros(p.shape)\n",
    "                    p = torch.where(p > t, p, zs)\n",
    "                    p = p.detach().apply_(self.qs.Quantize)\n",
    "\n",
    "        return loss"
   ]
  },
  {
   "cell_type": "code",
   "execution_count": 113,
   "metadata": {},
   "outputs": [],
   "source": [
    "#MLP Source: https://www.kaggle.com/pinocookie/pytorch-simple-mlp\n",
    "\n",
    "import numpy as np # linear algebra\n",
    "import pandas as pd # data processing, CSV file I/O (e.g. pd.read_csv)\n",
    "import matplotlib.pyplot as plt\n",
    "\n",
    "from sklearn.model_selection import train_test_split\n",
    "%matplotlib inline\n",
    "\n",
    "import torch\n",
    "import torch.nn as nn\n",
    "import torch.nn.functional as F\n",
    "from torch.utils.data import Dataset, DataLoader\n",
    "\n",
    "import torchvision\n",
    "import torchvision.transforms as transforms\n",
    "from torchvision.utils import make_grid"
   ]
  },
  {
   "cell_type": "code",
   "execution_count": 114,
   "metadata": {},
   "outputs": [],
   "source": [
    "class MNIST(Dataset):\n",
    "    def __init__(self, X, y=None, transform=None):\n",
    "        self.X = X\n",
    "        self.y = y\n",
    "        self.transform = transform\n",
    "        \n",
    "    def __len__(self):\n",
    "        return len(self.X.index)\n",
    "    \n",
    "    def __getitem__(self, index):\n",
    "        image = self.X.iloc[index, ].values.astype(np.uint8).reshape((28, 28, 1))\n",
    "        \n",
    "        if self.transform is not None:\n",
    "            image = self.transform(image)\n",
    "            \n",
    "        if self.y is not None:\n",
    "            return image, self.y.iloc[index]\n",
    "        else:\n",
    "            return image"
   ]
  },
  {
   "cell_type": "code",
   "execution_count": 115,
   "metadata": {},
   "outputs": [
    {
     "name": "stdout",
     "output_type": "stream",
     "text": [
      "train data shape :  (42000, 785)\n",
      "test data shape :  (28000, 784)\n",
      "train image shape :  (35000, 784)\n",
      "train label shape :  (35000,)\n",
      "valid image shape :  (7000, 784)\n",
      "valid label image :  (7000,)\n",
      "test image shape  :  (28000, 784)\n"
     ]
    }
   ],
   "source": [
    "train_df = pd.read_csv('C:\\\\Users\\\\554850\\\\ADL Project\\\\input\\\\train.csv')\n",
    "test_df = pd.read_csv('C:\\\\Users\\\\554850\\\\ADL Project\\\\input\\\\test.csv')\n",
    "\n",
    "print('train data shape : ', train_df.shape)\n",
    "print('test data shape : ', test_df.shape)\n",
    "\n",
    "X_train, X_valid, y_train, y_valid = \\\n",
    "    train_test_split(train_df.iloc[:, 1:], train_df['label'], test_size=1/6, random_state=42)\n",
    "\n",
    "X_test = test_df\n",
    "\n",
    "print('train image shape : ', X_train.shape)\n",
    "print('train label shape : ', y_train.shape)\n",
    "print('valid image shape : ', X_valid.shape)\n",
    "print('valid label image : ', y_valid.shape)\n",
    "print('test image shape  : ', X_test.shape)"
   ]
  },
  {
   "cell_type": "code",
   "execution_count": 116,
   "metadata": {},
   "outputs": [],
   "source": [
    "transform=transforms.Compose([\n",
    "    transforms.ToPILImage(),\n",
    "    transforms.RandomRotation(10),\n",
    "    transforms.ToTensor()\n",
    "])\n",
    "\n",
    "train_dataset = MNIST(X=X_train, y=y_train, transform=transform)\n",
    "valid_dataset = MNIST(X=X_valid, y=y_valid, transform=transforms.ToTensor())\n",
    "test_dataset = MNIST(X=X_test, transform=transforms.ToTensor())\n",
    "\n",
    "train_loader = DataLoader(dataset=train_dataset, batch_size=128, shuffle=True)\n",
    "valid_loader = DataLoader(dataset=valid_dataset, batch_size=128, shuffle=False)\n",
    "test_loader = DataLoader(dataset=test_dataset, batch_size=128, shuffle=False)"
   ]
  },
  {
   "cell_type": "code",
   "execution_count": 117,
   "metadata": {},
   "outputs": [
    {
     "name": "stdout",
     "output_type": "stream",
     "text": [
      "images shape on PyTroch :  torch.Size([128, 1, 28, 28])\n",
      "labels shape on PyTroch :  torch.Size([128])\n"
     ]
    }
   ],
   "source": [
    "dataiter = iter(train_loader)\n",
    "images, labels = dataiter.next()\n",
    "\n",
    "print('images shape on PyTroch : ', images.size())\n",
    "print('labels shape on PyTroch : ', labels.size())"
   ]
  },
  {
   "cell_type": "code",
   "execution_count": 118,
   "metadata": {},
   "outputs": [
    {
     "data": {
      "text/plain": [
       "(-0.5, 151.5, 151.5, -0.5)"
      ]
     },
     "execution_count": 118,
     "metadata": {},
     "output_type": "execute_result"
    },
    {
     "data": {
      "image/png": "[encoded data removed]",
      "text/plain": [
       "<Figure size 1080x720 with 1 Axes>"
      ]
     },
     "metadata": {
      "needs_background": "light"
     },
     "output_type": "display_data"
    }
   ],
   "source": [
    "grid = make_grid(images[:25], nrow=5)\n",
    "\n",
    "fig, ax = plt.subplots(figsize=(15, 10))\n",
    "ax.imshow(grid.numpy().transpose((1, 2, 0)))\n",
    "ax.axis('off')"
   ]
  },
  {
   "cell_type": "code",
   "execution_count": 119,
   "metadata": {},
   "outputs": [],
   "source": [
    "class MLP(nn.Module):\n",
    "    def __init__(self):\n",
    "        super(MLP, self).__init__()\n",
    "        self.layers = nn.Sequential(\n",
    "            nn.Linear(784, 100),\n",
    "            nn.ReLU(),\n",
    "            nn.Linear(100, 90),\n",
    "            nn.ReLU(),\n",
    "            nn.Linear(90, 80),\n",
    "            nn.ReLU(),\n",
    "            nn.Linear(80, 70),\n",
    "            nn.ReLU(),\n",
    "            nn.Linear(70, 60),\n",
    "            nn.ReLU(),\n",
    "            nn.Linear(60, 50),\n",
    "            nn.ReLU(),\n",
    "            nn.Linear(50, 40),\n",
    "            nn.ReLU(),\n",
    "            nn.Linear(40, 30),\n",
    "            nn.ReLU(),\n",
    "            nn.Linear(30, 20),\n",
    "            nn.ReLU(),\n",
    "            nn.Linear(20, 10)\n",
    "        )\n",
    "        \n",
    "    def forward(self, x):\n",
    "        # convert tensor (128, 1, 28, 28) --> (128, 1*28*28)\n",
    "        x = x.view(x.size(0), -1)\n",
    "        x = self.layers(x)\n",
    "        return x"
   ]
  },
  {
   "cell_type": "code",
   "execution_count": 120,
   "metadata": {},
   "outputs": [
    {
     "name": "stdout",
     "output_type": "stream",
     "text": [
      "MLP(\n",
      "  (layers): Sequential(\n",
      "    (0): Linear(in_features=784, out_features=100, bias=True)\n",
      "    (1): ReLU()\n",
      "    (2): Linear(in_features=100, out_features=90, bias=True)\n",
      "    (3): ReLU()\n",
      "    (4): Linear(in_features=90, out_features=80, bias=True)\n",
      "    (5): ReLU()\n",
      "    (6): Linear(in_features=80, out_features=70, bias=True)\n",
      "    (7): ReLU()\n",
      "    (8): Linear(in_features=70, out_features=60, bias=True)\n",
      "    (9): ReLU()\n",
      "    (10): Linear(in_features=60, out_features=50, bias=True)\n",
      "    (11): ReLU()\n",
      "    (12): Linear(in_features=50, out_features=40, bias=True)\n",
      "    (13): ReLU()\n",
      "    (14): Linear(in_features=40, out_features=30, bias=True)\n",
      "    (15): ReLU()\n",
      "    (16): Linear(in_features=30, out_features=20, bias=True)\n",
      "    (17): ReLU()\n",
      "    (18): Linear(in_features=20, out_features=10, bias=True)\n",
      "  )\n",
      ")\n",
      "[0.   0.1  0.13 0.16 0.19 0.22 0.25 0.28 0.31 0.34 0.37 0.4  0.43 0.46\n",
      " 0.49 0.52 0.55 0.58 0.61 0.64 0.67 0.7  0.73 0.76 0.79 0.82 0.85 0.88\n",
      " 0.91 0.94 0.97 1.  ]\n"
     ]
    }
   ],
   "source": [
    "model = MLP()\n",
    "print(model)\n",
    "\n",
    "#optimizer = torch.optim.Adam(model.parameters(), lr=0.001)\n",
    "optimizer = IntOptAdam(model.parameters(), .1, 5, lr=0.001)\n",
    "loss_fn = nn.CrossEntropyLoss()\n",
    "\n"
   ]
  },
  {
   "cell_type": "code",
   "execution_count": 121,
   "metadata": {},
   "outputs": [
    {
     "name": "stdout",
     "output_type": "stream",
     "text": [
      "0 / 50000\n",
      "12800 / 50000\n",
      "25600 / 50000\n",
      "epoch : 1, train loss : 1.2739, valid loss : 0.6215, valid acc : 81.00%\n",
      "0 / 50000\n",
      "12800 / 50000\n",
      "25600 / 50000\n",
      "epoch : 2, train loss : 0.5358, valid loss : 0.4721, valid acc : 85.37%\n",
      "0 / 50000\n",
      "12800 / 50000\n",
      "25600 / 50000\n",
      "epoch : 3, train loss : 0.3775, valid loss : 0.2906, valid acc : 91.91%\n",
      "0 / 50000\n",
      "12800 / 50000\n",
      "25600 / 50000\n",
      "epoch : 4, train loss : 0.3041, valid loss : 0.2518, valid acc : 92.99%\n",
      "0 / 50000\n",
      "12800 / 50000\n",
      "25600 / 50000\n",
      "epoch : 5, train loss : 0.2564, valid loss : 0.2394, valid acc : 93.47%\n",
      "0 / 50000\n",
      "12800 / 50000\n",
      "25600 / 50000\n",
      "epoch : 6, train loss : 0.2226, valid loss : 0.2325, valid acc : 93.21%\n",
      "0 / 50000\n",
      "12800 / 50000\n",
      "25600 / 50000\n",
      "epoch : 7, train loss : 0.1990, valid loss : 0.2006, valid acc : 94.46%\n",
      "0 / 50000\n",
      "12800 / 50000\n",
      "25600 / 50000\n",
      "epoch : 8, train loss : 0.1829, valid loss : 0.1931, valid acc : 94.63%\n",
      "0 / 50000\n",
      "12800 / 50000\n",
      "25600 / 50000\n",
      "epoch : 9, train loss : 0.1623, valid loss : 0.1797, valid acc : 94.89%\n",
      "0 / 50000\n",
      "12800 / 50000\n",
      "25600 / 50000\n",
      "epoch : 10, train loss : 0.1546, valid loss : 0.1777, valid acc : 95.17%\n"
     ]
    }
   ],
   "source": [
    "mean_train_losses = []\n",
    "mean_valid_losses = []\n",
    "valid_acc_list = []\n",
    "epochs = 10\n",
    "\n",
    "for epoch in range(epochs):\n",
    "    model.train()\n",
    "    \n",
    "    train_losses = []\n",
    "    valid_losses = []\n",
    "    for i, (images, labels) in enumerate(train_loader):\n",
    "        \n",
    "        optimizer.zero_grad()\n",
    "        \n",
    "        outputs = model(images)\n",
    "        loss = loss_fn(outputs, labels)\n",
    "        loss.backward()\n",
    "        optimizer.step()\n",
    "        \n",
    "        train_losses.append(loss.item())\n",
    "        \n",
    "        if (i * 128) % (128 * 100) == 0:\n",
    "            print(f'{i * 128} / 50000')\n",
    "            \n",
    "    model.eval()\n",
    "    correct = 0\n",
    "    total = 0\n",
    "    with torch.no_grad():\n",
    "        for i, (images, labels) in enumerate(valid_loader):\n",
    "            outputs = model(images)\n",
    "            loss = loss_fn(outputs, labels)\n",
    "            \n",
    "            valid_losses.append(loss.item())\n",
    "            \n",
    "            _, predicted = torch.max(outputs.data, 1)\n",
    "            correct += (predicted == labels).sum().item()\n",
    "            total += labels.size(0)\n",
    "            \n",
    "    mean_train_losses.append(np.mean(train_losses))\n",
    "    mean_valid_losses.append(np.mean(valid_losses))\n",
    "    \n",
    "    accuracy = 100*correct/total\n",
    "    valid_acc_list.append(accuracy)\n",
    "    print('epoch : {}, train loss : {:.4f}, valid loss : {:.4f}, valid acc : {:.2f}%'\\\n",
    "         .format(epoch+1, np.mean(train_losses), np.mean(valid_losses), accuracy))"
   ]
  },
  {
   "cell_type": "code",
   "execution_count": 46,
   "metadata": {},
   "outputs": [
    {
     "name": "stdout",
     "output_type": "stream",
     "text": [
      "[81.0, 88.58571428571429, 89.28571428571429, 91.94285714285714, 93.31428571428572, 93.94285714285714, 94.68571428571428, 95.04285714285714, 95.25714285714285, 95.51428571428572]\n"
     ]
    }
   ],
   "source": [
    "#Baseline\n",
    "print(valid_acc_list)"
   ]
  },
  {
   "cell_type": "code",
   "execution_count": 110,
   "metadata": {},
   "outputs": [
    {
     "name": "stdout",
     "output_type": "stream",
     "text": [
      "[62.6, 80.14285714285714, 86.68571428571428, 90.65714285714286, 91.21428571428571, 91.32857142857142, 92.24285714285715, 93.71428571428571, 94.58571428571429, 94.31428571428572]\n"
     ]
    }
   ],
   "source": [
    "#t = 0.1, b = 2\n",
    "print(valid_acc_list)"
   ]
  },
  {
   "cell_type": "code",
   "execution_count": 122,
   "metadata": {},
   "outputs": [
    {
     "name": "stdout",
     "output_type": "stream",
     "text": [
      "[81.0, 85.37142857142857, 91.91428571428571, 92.98571428571428, 93.47142857142858, 93.21428571428571, 94.45714285714286, 94.62857142857143, 94.88571428571429, 95.17142857142858]\n"
     ]
    }
   ],
   "source": [
    "#t = 0.1, b = 5\n",
    "print(valid_acc_list)"
   ]
  },
  {
   "cell_type": "code",
   "execution_count": 126,
   "metadata": {},
   "outputs": [
    {
     "data": {
      "image/png": "[encoded data removed]",
      "text/plain": [
       "<Figure size 960x320 with 1 Axes>"
      ]
     },
     "metadata": {
      "needs_background": "light"
     },
     "output_type": "display_data"
    }
   ],
   "source": [
    "accs = []\n",
    "accs.append([81.0, 88.58571428571429, 89.28571428571429, 91.94285714285714, 93.31428571428572, 93.94285714285714, 94.68571428571428, 95.04285714285714, 95.25714285714285, 95.51428571428572])\n",
    "accs.append([62.6, 80.14285714285714, 86.68571428571428, 90.65714285714286, 91.21428571428571, 91.32857142857142, 92.24285714285715, 93.71428571428571, 94.58571428571429, 94.31428571428572])\n",
    "accs.append([81.0, 85.37142857142857, 91.91428571428571, 92.98571428571428, 93.47142857142858, 93.21428571428571, 94.45714285714286, 94.62857142857143, 94.88571428571429, 95.17142857142858])\n",
    "\n",
    "import matplotlib.pyplot as plt\n",
    "from matplotlib.pyplot import figure\n",
    "\n",
    "glabels = [\"Adam\", \"IntOptAdam t = 0.1, b = 2\", \"IntOptAdam t = 0.1, b = 5\"]\n",
    "\n",
    "figure(figsize=(12,4), dpi=80)\n",
    "for i in range(3):\n",
    "    plt.plot(accs[i], label=glabels[i])\n",
    "plt.xticks(np.arange(0, 10, 1.0))\n",
    "plt.xlabel(\"Epoch\")\n",
    "plt.ylabel(\"Validation Accuracy\")\n",
    "plt.legend()\n",
    "plt.show()\n"
   ]
  },
  {
   "cell_type": "code",
   "execution_count": 140,
   "metadata": {
    "scrolled": false
   },
   "outputs": [
    {
     "name": "stdout",
     "output_type": "stream",
     "text": [
      "[0.   0.1  0.13 0.16 0.19 0.22 0.25 0.28 0.31 0.34 0.37 0.4  0.43 0.46\n",
      " 0.49 0.52 0.55 0.58 0.61 0.64 0.67 0.7  0.73 0.76 0.79 0.82 0.85 0.88\n",
      " 0.91 0.94 0.97 1.  ]\n",
      "Layer: 0  Sparsity Proportion: 0.5594005102040817\n",
      "Layer: 1  Sparsity Proportion: 0.37833333333333335\n",
      "Layer: 2  Sparsity Proportion: 0.3836111111111111\n",
      "Layer: 3  Sparsity Proportion: 0.37839285714285714\n",
      "Layer: 4  Sparsity Proportion: 0.37\n",
      "Layer: 5  Sparsity Proportion: 0.3393333333333333\n",
      "Layer: 6  Sparsity Proportion: 0.341\n",
      "Layer: 7  Sparsity Proportion: 0.3016666666666667\n",
      "Layer: 8  Sparsity Proportion: 0.24833333333333332\n",
      "Layer: 9  Sparsity Proportion: 0.16\n",
      "0.8881208791208791\n"
     ]
    }
   ],
   "source": [
    "qsn = QuantizerScheme(.1, 5)\n",
    "with torch.no_grad():\n",
    "    for i, (images, labels) in enumerate(valid_loader):\n",
    "        outputs = model(images)\n",
    "        loss = loss_fn(outputs, labels)\n",
    "\n",
    "        valid_losses.append(loss.item())\n",
    "\n",
    "        _, predicted = torch.max(outputs.data, 1)\n",
    "        correct += (predicted == labels).sum().item()\n",
    "        total += labels.size(0)\n",
    "\n",
    "for j in range(10):\n",
    "    k = j * 2\n",
    "    x = model.layers[k].weight\n",
    "    x = x.detach().apply_(qsn.Quantize)\n",
    "    fz = x[x==0].__len__()\n",
    "    ft = x.shape[0]*x.shape[1]\n",
    "    print(\"Layer: {}  Sparsity Proportion: {}\".format(j, fz/ft))\n",
    "\n",
    "with torch.no_grad():\n",
    "    for i, (images, labels) in enumerate(valid_loader):\n",
    "        outputs = model(images)\n",
    "        loss = loss_fn(outputs, labels)\n",
    "\n",
    "        valid_losses.append(loss.item())\n",
    "\n",
    "        _, predicted = torch.max(outputs.data, 1)\n",
    "        correct += (predicted == labels).sum().item()\n",
    "        total += labels.size(0)\n",
    "        \n",
    "print(correct/total)"
   ]
  },
  {
   "cell_type": "code",
   "execution_count": 144,
   "metadata": {},
   "outputs": [
    {
     "name": "stderr",
     "output_type": "stream",
     "text": [
      "No handles with labels found to put in legend.\n"
     ]
    },
    {
     "data": {
      "image/png": "[encoded data removed]",
      "text/plain": [
       "<Figure size 960x320 with 1 Axes>"
      ]
     },
     "metadata": {
      "needs_background": "light"
     },
     "output_type": "display_data"
    },
    {
     "name": "stdout",
     "output_type": "stream",
     "text": [
      "0.34598\n"
     ]
    }
   ],
   "source": [
    "import numpy\n",
    "\n",
    "sparsity = [0.5594, 0.3783, 0.3836, 0.3783, 0.3700, 0.3393, 0.3410, 0.3016, 0.2483, 0.1600]\n",
    "figure(figsize=(12,4), dpi=80)\n",
    "for i in range(3):\n",
    "    plt.plot(sparsity)\n",
    "plt.xticks(np.arange(0, 10, 1.0))\n",
    "plt.xlabel(\"Layer\")\n",
    "plt.ylabel(\"Sparsity Volume\")\n",
    "plt.legend()\n",
    "plt.show()\n",
    "\n",
    "print(numpy.average(sparsity))"
   ]
  },
  {
   "cell_type": "code",
   "execution_count": 139,
   "metadata": {},
   "outputs": [],
   "source": [
    "with torch.no_grad():\n",
    "    for i, (images, labels) in enumerate(valid_loader):\n",
    "        outputs = model(images)\n",
    "        loss = loss_fn(outputs, labels)\n",
    "\n",
    "        valid_losses.append(loss.item())\n",
    "\n",
    "        _, predicted = torch.max(outputs.data, 1)\n",
    "        correct += (predicted == labels).sum().item()\n",
    "        total += labels.size(0)"
   ]
  },
  {
   "cell_type": "code",
   "execution_count": 131,
   "metadata": {},
   "outputs": [
    {
     "name": "stdout",
     "output_type": "stream",
     "text": [
      "MLP(\n",
      "  (layers): Sequential(\n",
      "    (0): Linear(in_features=784, out_features=100, bias=True)\n",
      "    (1): ReLU()\n",
      "    (2): Linear(in_features=100, out_features=90, bias=True)\n",
      "    (3): ReLU()\n",
      "    (4): Linear(in_features=90, out_features=80, bias=True)\n",
      "    (5): ReLU()\n",
      "    (6): Linear(in_features=80, out_features=70, bias=True)\n",
      "    (7): ReLU()\n",
      "    (8): Linear(in_features=70, out_features=60, bias=True)\n",
      "    (9): ReLU()\n",
      "    (10): Linear(in_features=60, out_features=50, bias=True)\n",
      "    (11): ReLU()\n",
      "    (12): Linear(in_features=50, out_features=40, bias=True)\n",
      "    (13): ReLU()\n",
      "    (14): Linear(in_features=40, out_features=30, bias=True)\n",
      "    (15): ReLU()\n",
      "    (16): Linear(in_features=30, out_features=20, bias=True)\n",
      "    (17): ReLU()\n",
      "    (18): Linear(in_features=20, out_features=10, bias=True)\n",
      "  )\n",
      ")\n"
     ]
    }
   ],
   "source": [
    "print(model)"
   ]
  },
  {
   "cell_type": "code",
   "execution_count": null,
   "metadata": {},
   "outputs": [],
   "source": []
  }
 ],
 "metadata": {
  "kernelspec": {
   "display_name": "Python 3",
   "language": "python",
   "name": "python3"
  },
  "language_info": {
   "codemirror_mode": {
    "name": "ipython",
    "version": 3
   },
   "file_extension": ".py",
   "mimetype": "text/x-python",
   "name": "python",
   "nbconvert_exporter": "python",
   "pygments_lexer": "ipython3",
   "version": "3.8.5"
  }
 },
 "nbformat": 4,
 "nbformat_minor": 4
}
